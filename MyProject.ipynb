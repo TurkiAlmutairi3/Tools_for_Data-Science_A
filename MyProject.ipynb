{
 "cells": [
  {
   "cell_type": "markdown",
   "id": "47ab2a5c-ee2f-4433-bcef-30d13020efc3",
   "metadata": {},
   "source": [
    "# Data Science Project"
   ]
  },
  {
   "cell_type": "markdown",
   "id": "3dc4337d-55fe-42e3-8e7e-e3d425239d2f",
   "metadata": {},
   "source": [
    "## Introduction\n",
    "This is Introduction."
   ]
  },
  {
   "cell_type": "markdown",
   "id": "6e391f8e-56ec-4124-a10d-14119e8645bd",
   "metadata": {},
   "source": [
    "## Data Science Languages\n",
    "- Python\n",
    "- R\n",
    "- SQL\n",
    "- Java\n",
    "- Julia"
   ]
  },
  {
   "cell_type": "markdown",
   "id": "e8cd7da6-3726-4a7d-85ca-0c540cdf2ff3",
   "metadata": {},
   "source": [
    "## Data Science Libraries\n",
    "- Pandas\n",
    "- NumPy\n",
    "- Matplotlib\n",
    "- SciPy\n",
    "- scikit-learn"
   ]
  },
  {
   "cell_type": "markdown",
   "id": "f80a6920-772d-431b-b016-f972f7ca79d7",
   "metadata": {},
   "source": [
    "## Data Science Tools\n",
    "\n",
    "| Tool               | Type            |\n",
    "|--------------------|-----------------|\n",
    "| Jupyter Notebook   | Interactive Dev |\n",
    "| TensorFlow         | Machine Learning|\n",
    "| Tableau            | Data Visualization |\n",
    "| Apache Hadoop      | Big Data Processing |\n",
    "| GitHub             | Version Control |"
   ]
  },
  {
   "cell_type": "markdown",
   "id": "c06b5e95-9c22-4777-8c65-fe689b4e3fa6",
   "metadata": {},
   "source": [
    "## Arithmetic Expression Examples\n",
    "we will explore basic arithmetic operations like addition and multiplication."
   ]
  },
  {
   "cell_type": "code",
   "execution_count": 1,
   "id": "336eebd1-1c2a-473d-a063-dd55999001a1",
   "metadata": {},
   "outputs": [
    {
     "data": {
      "text/plain": [
       "(8, 15)"
      ]
     },
     "execution_count": 1,
     "metadata": {},
     "output_type": "execute_result"
    }
   ],
   "source": [
    "a = 5\n",
    "b = 3\n",
    "\n",
    "sum_result = a + b\n",
    "mul_result = a * b\n",
    "\n",
    "sum_result, mul_result\n"
   ]
  },
  {
   "cell_type": "markdown",
   "id": "e01f33ca-b5e6-4d8c-bfaf-c85ded622639",
   "metadata": {},
   "source": [
    "## Code cell to convert minutes to hours"
   ]
  },
  {
   "cell_type": "code",
   "execution_count": 2,
   "id": "665a4275-fe6f-427e-b27b-c14415bcc14d",
   "metadata": {},
   "outputs": [
    {
     "data": {
      "text/plain": [
       "2.0"
      ]
     },
     "execution_count": 2,
     "metadata": {},
     "output_type": "execute_result"
    }
   ],
   "source": [
    "\n",
    "def minutes_to_hours(minutes):\n",
    "    hours = minutes / 60\n",
    "    return hours\n",
    "\n",
    "minutes = 120\n",
    "hours = minutes_to_hours(minutes)\n",
    "hours"
   ]
  },
  {
   "cell_type": "markdown",
   "id": "d329ac08-ee90-4fe6-9fa1-e28193d3b940",
   "metadata": {},
   "source": [
    "## Objectives\n",
    "- Demonstrate data science languages and libraries.\n",
    "- Show usage of basic arithmetic expressions.\n",
    "- Perform unit conversion from minutes to hours.\n",
    "- Explore data science tools through tables."
   ]
  },
  {
   "cell_type": "markdown",
   "id": "0867ccc5-9eff-43e2-89a6-f7adcb502a2b",
   "metadata": {},
   "source": [
    "## Author\n",
    "This notebook was created by Turki Almutairi."
   ]
  },
  {
   "cell_type": "code",
   "execution_count": null,
   "id": "a625e47a-c0a9-40d8-bbb6-da632a3aa076",
   "metadata": {},
   "outputs": [],
   "source": []
  }
 ],
 "metadata": {
  "kernelspec": {
   "display_name": "Python 3 (ipykernel)",
   "language": "python",
   "name": "python3"
  },
  "language_info": {
   "codemirror_mode": {
    "name": "ipython",
    "version": 3
   },
   "file_extension": ".py",
   "mimetype": "text/x-python",
   "name": "python",
   "nbconvert_exporter": "python",
   "pygments_lexer": "ipython3",
   "version": "3.13.3"
  }
 },
 "nbformat": 4,
 "nbformat_minor": 5
}
